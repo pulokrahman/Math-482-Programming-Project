{
 "cells": [
  {
   "cell_type": "code",
   "execution_count": 3,
   "metadata": {},
   "outputs": [],
   "source": [
    "import pandas as pd\n",
    "import numpy as np\n",
    "from tabulate import tabulate\n",
    "import time\n",
    "#import matplotlib.pyplot as plt\n",
    "#from pandas.plotting import table "
   ]
  },
  {
   "cell_type": "code",
   "execution_count": 4,
   "metadata": {},
   "outputs": [],
   "source": [
    "def generator_1(num):\n",
    "    return int(np.mod(np.floor(num*np.power(np.pi,11)),30))"
   ]
  },
  {
   "cell_type": "code",
   "execution_count": 3,
   "metadata": {},
   "outputs": [],
   "source": [
    "def generator_2(num):\n",
    "    return int(1+np.mod(np.floor(num*np.power(np.e,11)),30))"
   ]
  },
  {
   "cell_type": "code",
   "execution_count": 4,
   "metadata": {},
   "outputs": [],
   "source": [
    "def generator_3(num):\n",
    "    return int(1+np.mod(num*53,30))"
   ]
  },
  {
   "cell_type": "code",
   "execution_count": 5,
   "metadata": {},
   "outputs": [],
   "source": [
    "def generator_4(num):\n",
    "    return int(1+np.mod(num*29,30))"
   ]
  },
  {
   "cell_type": "code",
   "execution_count": 5,
   "metadata": {},
   "outputs": [],
   "source": [
    "def chunks(lst, n):\n",
    "    \"\"\"Yield successive n-sized chunks from lst.\"\"\"\n",
    "    for i in range(0, len(lst), n):\n",
    "        yield lst[i:i + n]"
   ]
  },
  {
   "cell_type": "markdown",
   "metadata": {},
   "source": [
    "Ignore this cell below and the one under it."
   ]
  },
  {
   "cell_type": "code",
   "execution_count": 8,
   "metadata": {},
   "outputs": [],
   "source": [
    "def isInvalidColor(color,checker_list):\n",
    "  count = len(list(filter(lambda cached: (True if cached == color else False), checker_list)))\n",
    "  return (True if count >= 3 else False)"
   ]
  },
  {
   "cell_type": "code",
   "execution_count": 19,
   "metadata": {},
   "outputs": [],
   "source": [
    "def puzzle_1():\n",
    "    checker_list = []\n",
    "    puzzle_1_list = []\n",
    "\n",
    "    for i in range(1, 91):\n",
    "        n = i\n",
    "        color = generator_1(n)\n",
    "        while (isInvalidColor(color,checker_list)):\n",
    "            n += 1\n",
    "            color = generator_1(n)\n",
    "        checker_list.append(color)\n",
    "        puzzle_1_list.append(color)\n",
    "    puzzle_1_list = list(chunks(puzzle_1_list,3))\n",
    "    for row in puzzle_1_list:\n",
    "        row.insert(0, puzzle_1_list.index(row)+1)\n",
    "    print(tabulate(puzzle_1_list, headers=[\"Prism\",\"Face 1\", \"Face 2\",\"Face 3\"],tablefmt=\"github\",showindex = False))"
   ]
  },
  {
   "cell_type": "code",
   "execution_count": 1,
   "metadata": {},
   "outputs": [],
   "source": [
    "def puzzle_1():\n",
    "    start = time.time()\n",
    "    checker_list = []\n",
    "    puzzle_1_list=[]\n",
    "    i = 1\n",
    "    #chunked = []\n",
    "    for i in range(1,600):\n",
    "        x = generator_1(i)\n",
    "        if x in checker_list[::2]:\n",
    "            count = checker_list[checker_list.index(x)+1]\n",
    "            if(count < 3):\n",
    "                puzzle_1_list.append(x)\n",
    "                checker_list[checker_list.index(x)+1] = count + 1\n",
    "        else:\n",
    "            checker_list.append(x)\n",
    "            checker_list.append(1)\n",
    "            puzzle_1_list.append(x)\n",
    "        if(len(puzzle_1_list) == 90):\n",
    "            break\n",
    "    chunked = chunks(puzzle_1_list,3)\n",
    "    end = time.time()\n",
    "    print(tabulate(chunked, headers=[\"Face 1\", \"Face 2\",\"Face 3\"],tablefmt=\"github\",showindex = False))\n",
    "    #print(checker_list)\n",
    "    #print(chunked)\n",
    "    print(\"Program ran for \" , end - start, \" seconds\")"
   ]
  },
  {
   "cell_type": "code",
   "execution_count": 6,
   "metadata": {},
   "outputs": [
    {
     "name": "stdout",
     "output_type": "stream",
     "text": [
      "|   Face 1 |   Face 2 |   Face 3 |\n",
      "|----------|----------|----------|\n",
      "|       24 |       18 |       12 |\n",
      "|        6 |        0 |       24 |\n",
      "|       18 |       12 |        6 |\n",
      "|        0 |       24 |       18 |\n",
      "|       12 |        6 |        0 |\n",
      "|       25 |       19 |       13 |\n",
      "|        7 |        1 |       25 |\n",
      "|       19 |       13 |        7 |\n",
      "|        1 |       25 |       19 |\n",
      "|       13 |        7 |        1 |\n",
      "|       20 |       14 |        8 |\n",
      "|        2 |       26 |       20 |\n",
      "|       14 |        8 |       26 |\n",
      "|       20 |       14 |        8 |\n",
      "|        2 |       26 |        2 |\n",
      "|       21 |       15 |        9 |\n",
      "|        3 |       27 |       21 |\n",
      "|       15 |        9 |       27 |\n",
      "|       21 |       15 |        9 |\n",
      "|       27 |       16 |       10 |\n",
      "|        4 |       28 |       22 |\n",
      "|       16 |       10 |        4 |\n",
      "|       28 |       22 |       16 |\n",
      "|       10 |        4 |       28 |\n",
      "|       22 |       11 |        5 |\n",
      "|       29 |       23 |       17 |\n",
      "|       11 |        5 |       29 |\n",
      "|       23 |       17 |       11 |\n",
      "|        5 |       29 |       23 |\n",
      "|       17 |          |          |\n",
      "Program ran for  0.001996755599975586  seconds\n"
     ]
    }
   ],
   "source": [
    "puzzle_1_redo()"
   ]
  }
 ],
 "metadata": {
  "kernelspec": {
   "display_name": "Python 3",
   "language": "python",
   "name": "python3"
  },
  "language_info": {
   "codemirror_mode": {
    "name": "ipython",
    "version": 3
   },
   "file_extension": ".py",
   "mimetype": "text/x-python",
   "name": "python",
   "nbconvert_exporter": "python",
   "pygments_lexer": "ipython3",
   "version": "3.8.3"
  }
 },
 "nbformat": 4,
 "nbformat_minor": 4
}
